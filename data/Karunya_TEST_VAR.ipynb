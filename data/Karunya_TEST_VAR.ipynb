{
 "cells": [
  {
   "cell_type": "markdown",
   "id": "7ea21109",
   "metadata": {},
   "source": [
    "Importing libraries"
   ]
  },
  {
   "cell_type": "code",
   "execution_count": 1,
   "id": "11c187b7",
   "metadata": {},
   "outputs": [],
   "source": [
    "import numpy as np # linear algebra\n",
    "import pandas as pd # data processing, CSV file I/O (e.g. pd.read_csv)"
   ]
  },
  {
   "cell_type": "code",
   "execution_count": 5,
   "id": "dbbfa8bf",
   "metadata": {},
   "outputs": [],
   "source": [
    "#nsw_demand = 'C:\\Users\\Karunya.SankarKumar\\OneDrive - Downer\\Documents\\GitHub\\project\\data\\NSW\\totaldemand_nsw.csv'"
   ]
  },
  {
   "cell_type": "code",
   "execution_count": null,
   "id": "b78f24b9",
   "metadata": {},
   "outputs": [],
   "source": []
  },
  {
   "cell_type": "code",
   "execution_count": null,
   "id": "b530e6fe",
   "metadata": {},
   "outputs": [],
   "source": []
  }
 ],
 "metadata": {
  "kernelspec": {
   "display_name": "Python 3 (ipykernel)",
   "language": "python",
   "name": "python3"
  },
  "language_info": {
   "codemirror_mode": {
    "name": "ipython",
    "version": 3
   },
   "file_extension": ".py",
   "mimetype": "text/x-python",
   "name": "python",
   "nbconvert_exporter": "python",
   "pygments_lexer": "ipython3",
   "version": "3.10.9"
  }
 },
 "nbformat": 4,
 "nbformat_minor": 5
}
